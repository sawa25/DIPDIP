{
 "cells": [
  {
   "cell_type": "code",
   "execution_count": 1,
   "metadata": {},
   "outputs": [],
   "source": [
    "import pandas as pd\n",
    "import graphviz as gv\n",
    "import matplotlib.pyplot as plt"
   ]
  },
  {
   "cell_type": "code",
   "execution_count": 102,
   "metadata": {},
   "outputs": [
    {
     "data": {
      "text/html": [
       "<div>\n",
       "<style scoped>\n",
       "    .dataframe tbody tr th:only-of-type {\n",
       "        vertical-align: middle;\n",
       "    }\n",
       "\n",
       "    .dataframe tbody tr th {\n",
       "        vertical-align: top;\n",
       "    }\n",
       "\n",
       "    .dataframe thead th {\n",
       "        text-align: right;\n",
       "    }\n",
       "</style>\n",
       "<table border=\"1\" class=\"dataframe\">\n",
       "  <thead>\n",
       "    <tr style=\"text-align: right;\">\n",
       "      <th></th>\n",
       "      <th>timestamp</th>\n",
       "      <th>visitorid</th>\n",
       "      <th>event</th>\n",
       "      <th>itemid</th>\n",
       "      <th>transactionid</th>\n",
       "      <th>datetime</th>\n",
       "    </tr>\n",
       "  </thead>\n",
       "  <tbody>\n",
       "    <tr>\n",
       "      <th>0</th>\n",
       "      <td>1433221332117</td>\n",
       "      <td>257597</td>\n",
       "      <td>view</td>\n",
       "      <td>355908</td>\n",
       "      <td>NaN</td>\n",
       "      <td>2015-06-02 05:02:12.117</td>\n",
       "    </tr>\n",
       "    <tr>\n",
       "      <th>1</th>\n",
       "      <td>1433224214164</td>\n",
       "      <td>992329</td>\n",
       "      <td>view</td>\n",
       "      <td>248676</td>\n",
       "      <td>NaN</td>\n",
       "      <td>2015-06-02 05:50:14.164</td>\n",
       "    </tr>\n",
       "    <tr>\n",
       "      <th>2</th>\n",
       "      <td>1433221999827</td>\n",
       "      <td>111016</td>\n",
       "      <td>view</td>\n",
       "      <td>318965</td>\n",
       "      <td>NaN</td>\n",
       "      <td>2015-06-02 05:13:19.827</td>\n",
       "    </tr>\n",
       "    <tr>\n",
       "      <th>3</th>\n",
       "      <td>1433221955914</td>\n",
       "      <td>483717</td>\n",
       "      <td>view</td>\n",
       "      <td>253185</td>\n",
       "      <td>NaN</td>\n",
       "      <td>2015-06-02 05:12:35.914</td>\n",
       "    </tr>\n",
       "    <tr>\n",
       "      <th>4</th>\n",
       "      <td>1433221337106</td>\n",
       "      <td>951259</td>\n",
       "      <td>view</td>\n",
       "      <td>367447</td>\n",
       "      <td>NaN</td>\n",
       "      <td>2015-06-02 05:02:17.106</td>\n",
       "    </tr>\n",
       "  </tbody>\n",
       "</table>\n",
       "</div>"
      ],
      "text/plain": [
       "       timestamp  visitorid event  itemid  transactionid  \\\n",
       "0  1433221332117     257597  view  355908            NaN   \n",
       "1  1433224214164     992329  view  248676            NaN   \n",
       "2  1433221999827     111016  view  318965            NaN   \n",
       "3  1433221955914     483717  view  253185            NaN   \n",
       "4  1433221337106     951259  view  367447            NaN   \n",
       "\n",
       "                 datetime  \n",
       "0 2015-06-02 05:02:12.117  \n",
       "1 2015-06-02 05:50:14.164  \n",
       "2 2015-06-02 05:13:19.827  \n",
       "3 2015-06-02 05:12:35.914  \n",
       "4 2015-06-02 05:02:17.106  "
      ]
     },
     "execution_count": 102,
     "metadata": {},
     "output_type": "execute_result"
    }
   ],
   "source": [
    "# events — датасет с событиями. Колонки:\n",
    "\n",
    "# timestamp — время события\n",
    "# visitorid — идентификатор пользователя\n",
    "# event — тип события\n",
    "# itemid — идентификатор объекта\n",
    "# transactionid — идентификатор транзакции, если она проходила\n",
    "dfev=pd.read_csv('events.csv.zip')\n",
    "# добавление читаемого столбца даты/времени\n",
    "dfev['datetime'] = pd.to_datetime(dfev['timestamp'], unit='ms')\n",
    "\n",
    "dfev.head()"
   ]
  },
  {
   "cell_type": "code",
   "execution_count": 85,
   "metadata": {},
   "outputs": [
    {
     "name": "stdout",
     "output_type": "stream",
     "text": [
      "Датасет не содержит повторяющихся индексов.\n"
     ]
    }
   ],
   "source": [
    "duplicates = dfev.index.duplicated()\n",
    "\n",
    "if any(duplicates):\n",
    "    print(\"Датасет содержит повторяющиеся индексы.\")\n",
    "    print(\"Индексы, которые дублируются:\", dfev.index[duplicates])\n",
    "else:\n",
    "    print(\"Датасет не содержит повторяющихся индексов.\")"
   ]
  },
  {
   "cell_type": "code",
   "execution_count": 3,
   "metadata": {},
   "outputs": [
    {
     "data": {
      "text/plain": [
       "array(['view', 'addtocart', 'transaction'], dtype=object)"
      ]
     },
     "execution_count": 3,
     "metadata": {},
     "output_type": "execute_result"
    }
   ],
   "source": [
    "# уникальные события\n",
    "dfev['event'].unique()"
   ]
  },
  {
   "cell_type": "code",
   "execution_count": 77,
   "metadata": {},
   "outputs": [
    {
     "data": {
      "text/html": [
       "<div>\n",
       "<style scoped>\n",
       "    .dataframe tbody tr th:only-of-type {\n",
       "        vertical-align: middle;\n",
       "    }\n",
       "\n",
       "    .dataframe tbody tr th {\n",
       "        vertical-align: top;\n",
       "    }\n",
       "\n",
       "    .dataframe thead th {\n",
       "        text-align: right;\n",
       "    }\n",
       "</style>\n",
       "<table border=\"1\" class=\"dataframe\">\n",
       "  <thead>\n",
       "    <tr style=\"text-align: right;\">\n",
       "      <th></th>\n",
       "      <th>timestamp</th>\n",
       "      <th>visitorid</th>\n",
       "      <th>event</th>\n",
       "      <th>itemid</th>\n",
       "      <th>transactionid</th>\n",
       "      <th>datetime</th>\n",
       "    </tr>\n",
       "  </thead>\n",
       "  <tbody>\n",
       "    <tr>\n",
       "      <th>130</th>\n",
       "      <td>1433222276276</td>\n",
       "      <td>599528</td>\n",
       "      <td>transaction</td>\n",
       "      <td>356475</td>\n",
       "      <td>4000.0</td>\n",
       "      <td>2015-06-02 05:17:56.276</td>\n",
       "    </tr>\n",
       "    <tr>\n",
       "      <th>304</th>\n",
       "      <td>1433193500981</td>\n",
       "      <td>121688</td>\n",
       "      <td>transaction</td>\n",
       "      <td>15335</td>\n",
       "      <td>11117.0</td>\n",
       "      <td>2015-06-01 21:18:20.981</td>\n",
       "    </tr>\n",
       "    <tr>\n",
       "      <th>418</th>\n",
       "      <td>1433193915008</td>\n",
       "      <td>552148</td>\n",
       "      <td>transaction</td>\n",
       "      <td>81345</td>\n",
       "      <td>5444.0</td>\n",
       "      <td>2015-06-01 21:25:15.008</td>\n",
       "    </tr>\n",
       "    <tr>\n",
       "      <th>814</th>\n",
       "      <td>1433176736375</td>\n",
       "      <td>102019</td>\n",
       "      <td>transaction</td>\n",
       "      <td>150318</td>\n",
       "      <td>13556.0</td>\n",
       "      <td>2015-06-01 16:38:56.375</td>\n",
       "    </tr>\n",
       "    <tr>\n",
       "      <th>843</th>\n",
       "      <td>1433174518180</td>\n",
       "      <td>189384</td>\n",
       "      <td>transaction</td>\n",
       "      <td>310791</td>\n",
       "      <td>7244.0</td>\n",
       "      <td>2015-06-01 16:01:58.180</td>\n",
       "    </tr>\n",
       "  </tbody>\n",
       "</table>\n",
       "</div>"
      ],
      "text/plain": [
       "         timestamp  visitorid        event  itemid  transactionid  \\\n",
       "130  1433222276276     599528  transaction  356475         4000.0   \n",
       "304  1433193500981     121688  transaction   15335        11117.0   \n",
       "418  1433193915008     552148  transaction   81345         5444.0   \n",
       "814  1433176736375     102019  transaction  150318        13556.0   \n",
       "843  1433174518180     189384  transaction  310791         7244.0   \n",
       "\n",
       "                   datetime  \n",
       "130 2015-06-02 05:17:56.276  \n",
       "304 2015-06-01 21:18:20.981  \n",
       "418 2015-06-01 21:25:15.008  \n",
       "814 2015-06-01 16:38:56.375  \n",
       "843 2015-06-01 16:01:58.180  "
      ]
     },
     "execution_count": 77,
     "metadata": {},
     "output_type": "execute_result"
    }
   ],
   "source": [
    "# подготовка сета с законченными транзацкиями\n",
    "dfev_tr = dfev[dfev['transactionid'].notna()]\n",
    "dfev_tr.head()"
   ]
  },
  {
   "cell_type": "code",
   "execution_count": 5,
   "metadata": {},
   "outputs": [
    {
     "data": {
      "text/plain": [
       "119736    36\n",
       "369447    31\n",
       "7943      30\n",
       "Name: itemid, dtype: int64"
      ]
     },
     "execution_count": 5,
     "metadata": {},
     "output_type": "execute_result"
    }
   ],
   "source": [
    "# разбивка транзакционной выборки на до и после 1 июля\n",
    "df_before = dfev_tr[dfev_tr['datetime'] <= pd.Timestamp('2015-07-01')]\n",
    "df_after = dfev_tr[dfev_tr['datetime'] > pd.Timestamp('2015-07-01')]\n",
    "\n",
    "# топ 3 товара, проданных до 1 июля включительно\n",
    "top_items = df_before['itemid'].value_counts().head(3)\n",
    "top_items"
   ]
  },
  {
   "cell_type": "code",
   "execution_count": 6,
   "metadata": {},
   "outputs": [
    {
     "data": {
      "text/plain": [
       "461686    110\n",
       "213834     89\n",
       "119736     61\n",
       "Name: itemid, dtype: int64"
      ]
     },
     "execution_count": 6,
     "metadata": {},
     "output_type": "execute_result"
    }
   ],
   "source": [
    "# (после первого июля уже были другие товары в топе)\n",
    "top_items_ = df_after['itemid'].value_counts().head(3)\n",
    "top_items_"
   ]
  },
  {
   "cell_type": "code",
   "execution_count": 7,
   "metadata": {},
   "outputs": [
    {
     "name": "stdout",
     "output_type": "stream",
     "text": [
      "\n",
      "доля(%) продаж топ 3 товаров в общем кол-ве транзакций до 1 июля: 1.00%\n"
     ]
    }
   ],
   "source": [
    "# полное количество транзакций до 1 июля\n",
    "total_transactions = len(df_before)\n",
    "\n",
    "# доля продаж топ 3 товаров в общем кол-ве транзакций до 1 июля\n",
    "percentage_top_items = (top_items.sum() / total_transactions) * 100\n",
    "\n",
    "print(\"\\nдоля(%) продаж топ 3 товаров в общем кол-ве транзакций до 1 июля: {:.2f}%\".format(percentage_top_items))"
   ]
  },
  {
   "cell_type": "code",
   "execution_count": 9,
   "metadata": {},
   "outputs": [
    {
     "name": "stdout",
     "output_type": "stream",
     "text": [
      "\n",
      "доля(%) продаж бывших топ 3 товаров в общем кол-ве транзакций после 1 июля: 0.601%\n"
     ]
    }
   ],
   "source": [
    "# всего продаж после 1 июля\n",
    "total_transactions_after = len(df_after)\n",
    "# получим список itemid, которые входили в топ 3 до 1 июля\n",
    "top_items_list = list(top_items.index)\n",
    "# определить количество транзакций после 1 июля с топами из до 1 июля\n",
    "top_items_count_after = df_after[df_after['itemid'].isin(top_items_list)].shape[0]\n",
    "\n",
    "# какая доля продаж после 1 июля бывших топов\n",
    "percentage_top_items_after = (top_items_count_after / total_transactions_after) * 100\n",
    "\n",
    "print(\"\\nдоля(%) продаж бывших топ 3 товаров в общем кол-ве транзакций после 1 июля: {:.3f}%\".format(percentage_top_items_after))"
   ]
  },
  {
   "cell_type": "code",
   "execution_count": 19,
   "metadata": {},
   "outputs": [
    {
     "data": {
      "text/html": [
       "<div>\n",
       "<style scoped>\n",
       "    .dataframe tbody tr th:only-of-type {\n",
       "        vertical-align: middle;\n",
       "    }\n",
       "\n",
       "    .dataframe tbody tr th {\n",
       "        vertical-align: top;\n",
       "    }\n",
       "\n",
       "    .dataframe thead th {\n",
       "        text-align: right;\n",
       "    }\n",
       "</style>\n",
       "<table border=\"1\" class=\"dataframe\">\n",
       "  <thead>\n",
       "    <tr style=\"text-align: right;\">\n",
       "      <th></th>\n",
       "      <th>categoryid</th>\n",
       "      <th>parentid</th>\n",
       "    </tr>\n",
       "  </thead>\n",
       "  <tbody>\n",
       "    <tr>\n",
       "      <th>0</th>\n",
       "      <td>1016</td>\n",
       "      <td>213.0</td>\n",
       "    </tr>\n",
       "    <tr>\n",
       "      <th>1</th>\n",
       "      <td>809</td>\n",
       "      <td>169.0</td>\n",
       "    </tr>\n",
       "    <tr>\n",
       "      <th>2</th>\n",
       "      <td>570</td>\n",
       "      <td>9.0</td>\n",
       "    </tr>\n",
       "    <tr>\n",
       "      <th>3</th>\n",
       "      <td>1691</td>\n",
       "      <td>885.0</td>\n",
       "    </tr>\n",
       "    <tr>\n",
       "      <th>4</th>\n",
       "      <td>536</td>\n",
       "      <td>1691.0</td>\n",
       "    </tr>\n",
       "  </tbody>\n",
       "</table>\n",
       "</div>"
      ],
      "text/plain": [
       "   categoryid  parentid\n",
       "0        1016     213.0\n",
       "1         809     169.0\n",
       "2         570       9.0\n",
       "3        1691     885.0\n",
       "4         536    1691.0"
      ]
     },
     "execution_count": 19,
     "metadata": {},
     "output_type": "execute_result"
    }
   ],
   "source": [
    "# category_tree — файл с деревом категорий (можно восстановить дерево).\n",
    "# category_id — идентификатор категорий\n",
    "# parent_id — идентификатор родительской категории\n",
    "df=pd.read_csv('category_tree.csv')\n",
    "df.head()"
   ]
  },
  {
   "cell_type": "code",
   "execution_count": 17,
   "metadata": {},
   "outputs": [
    {
     "name": "stdout",
     "output_type": "stream",
     "text": [
      "<class 'pandas.core.frame.DataFrame'>\n",
      "RangeIndex: 1669 entries, 0 to 1668\n",
      "Data columns (total 2 columns):\n",
      " #   Column      Non-Null Count  Dtype  \n",
      "---  ------      --------------  -----  \n",
      " 0   categoryid  1669 non-null   int64  \n",
      " 1   parentid    1644 non-null   float64\n",
      "dtypes: float64(1), int64(1)\n",
      "memory usage: 26.2 KB\n"
     ]
    }
   ],
   "source": [
    "df.info()"
   ]
  },
  {
   "cell_type": "code",
   "execution_count": 38,
   "metadata": {},
   "outputs": [
    {
     "data": {
      "text/html": [
       "<div>\n",
       "<style scoped>\n",
       "    .dataframe tbody tr th:only-of-type {\n",
       "        vertical-align: middle;\n",
       "    }\n",
       "\n",
       "    .dataframe tbody tr th {\n",
       "        vertical-align: top;\n",
       "    }\n",
       "\n",
       "    .dataframe thead th {\n",
       "        text-align: right;\n",
       "    }\n",
       "</style>\n",
       "<table border=\"1\" class=\"dataframe\">\n",
       "  <thead>\n",
       "    <tr style=\"text-align: right;\">\n",
       "      <th></th>\n",
       "      <th>categoryid</th>\n",
       "      <th>parentid</th>\n",
       "    </tr>\n",
       "  </thead>\n",
       "  <tbody>\n",
       "    <tr>\n",
       "      <th>1332</th>\n",
       "      <td>750</td>\n",
       "      <td>673</td>\n",
       "    </tr>\n",
       "    <tr>\n",
       "      <th>441</th>\n",
       "      <td>426</td>\n",
       "      <td>872</td>\n",
       "    </tr>\n",
       "    <tr>\n",
       "      <th>1485</th>\n",
       "      <td>1288</td>\n",
       "      <td>1182</td>\n",
       "    </tr>\n",
       "    <tr>\n",
       "      <th>1497</th>\n",
       "      <td>1507</td>\n",
       "      <td>1157</td>\n",
       "    </tr>\n",
       "    <tr>\n",
       "      <th>1595</th>\n",
       "      <td>1406</td>\n",
       "      <td>203</td>\n",
       "    </tr>\n",
       "  </tbody>\n",
       "</table>\n",
       "</div>"
      ],
      "text/plain": [
       "      categoryid  parentid\n",
       "1332         750       673\n",
       "441          426       872\n",
       "1485        1288      1182\n",
       "1497        1507      1157\n",
       "1595        1406       203"
      ]
     },
     "execution_count": 38,
     "metadata": {},
     "output_type": "execute_result"
    }
   ],
   "source": [
    "# для корректности сопоставления categoryid\tи parentid преобразуем в int\n",
    "df['parentid'] = df['parentid'].fillna(-1).astype('int64')\n",
    "df.sample(5)"
   ]
  },
  {
   "cell_type": "code",
   "execution_count": 45,
   "metadata": {},
   "outputs": [],
   "source": [
    "#построение графа для дерева категорий/подкатегорий\n",
    "#(не для всех, а в качестве примера для одной из первых)\n",
    "def find_root_category(category_id, df):#проверка, что категория входит в текущее дерево\n",
    "    while True:\n",
    "        parent_id = df.loc[df['categoryid'] == category_id, 'parentid'].iloc[0]\n",
    "        if parent_id==-1:\n",
    "            return category_id\n",
    "        category_id = parent_id\n",
    "\n",
    "# Получаем список уникальных корневых категорий\n",
    "# root_categories = df[df['parentid'].isnull()]['categoryid'].tolist()\n",
    "root_categories = df[df['parentid'] == -1]['categoryid'].tolist()\n",
    "\n",
    "# Создаем отдельный граф для каждой корневой категории\n",
    "for idx, root_category in enumerate(root_categories):\n",
    "    if idx > 1:\n",
    "        break\n",
    "\n",
    "    graph = gv.Digraph(format='png')\n",
    "\n",
    "    # Добавляем узлы (вершины) графа для текущей корневой категории и ее подкатегорий\n",
    "    for index, row in df.iterrows():\n",
    "        category_id = row['categoryid']\n",
    "        parent_id = row['parentid']\n",
    "\n",
    "        # Проверяем, что категория входит в дерево и ее корень соответствует текущей корневой категории\n",
    "        if find_root_category(category_id, df) == root_category:\n",
    "            if parent_id==-1:\n",
    "                graph.node(str(category_id), label=f\"{category_id} (Root)\")\n",
    "            else:\n",
    "                graph.node(str(category_id), label=f\"{category_id}\")\n",
    "                graph.edge(str(parent_id), str(category_id))\n",
    "\n",
    "    # Сохраняем построенный граф в файл\n",
    "    graph.render(f'category_graph_{idx}', view=True)\n"
   ]
  },
  {
   "cell_type": "markdown",
   "metadata": {},
   "source": [
    "![](category_graph_1.png)"
   ]
  },
  {
   "cell_type": "code",
   "execution_count": 46,
   "metadata": {},
   "outputs": [
    {
     "data": {
      "text/html": [
       "<div>\n",
       "<style scoped>\n",
       "    .dataframe tbody tr th:only-of-type {\n",
       "        vertical-align: middle;\n",
       "    }\n",
       "\n",
       "    .dataframe tbody tr th {\n",
       "        vertical-align: top;\n",
       "    }\n",
       "\n",
       "    .dataframe thead th {\n",
       "        text-align: right;\n",
       "    }\n",
       "</style>\n",
       "<table border=\"1\" class=\"dataframe\">\n",
       "  <thead>\n",
       "    <tr style=\"text-align: right;\">\n",
       "      <th></th>\n",
       "      <th>timestamp</th>\n",
       "      <th>itemid</th>\n",
       "      <th>property</th>\n",
       "      <th>value</th>\n",
       "    </tr>\n",
       "  </thead>\n",
       "  <tbody>\n",
       "    <tr>\n",
       "      <th>0</th>\n",
       "      <td>1435460400000</td>\n",
       "      <td>460429</td>\n",
       "      <td>categoryid</td>\n",
       "      <td>1338</td>\n",
       "    </tr>\n",
       "    <tr>\n",
       "      <th>1</th>\n",
       "      <td>1441508400000</td>\n",
       "      <td>206783</td>\n",
       "      <td>888</td>\n",
       "      <td>1116713 960601 n277.200</td>\n",
       "    </tr>\n",
       "    <tr>\n",
       "      <th>2</th>\n",
       "      <td>1439089200000</td>\n",
       "      <td>395014</td>\n",
       "      <td>400</td>\n",
       "      <td>n552.000 639502 n720.000 424566</td>\n",
       "    </tr>\n",
       "    <tr>\n",
       "      <th>3</th>\n",
       "      <td>1431226800000</td>\n",
       "      <td>59481</td>\n",
       "      <td>790</td>\n",
       "      <td>n15360.000</td>\n",
       "    </tr>\n",
       "    <tr>\n",
       "      <th>4</th>\n",
       "      <td>1431831600000</td>\n",
       "      <td>156781</td>\n",
       "      <td>917</td>\n",
       "      <td>828513</td>\n",
       "    </tr>\n",
       "  </tbody>\n",
       "</table>\n",
       "</div>"
      ],
      "text/plain": [
       "       timestamp  itemid    property                            value\n",
       "0  1435460400000  460429  categoryid                             1338\n",
       "1  1441508400000  206783         888          1116713 960601 n277.200\n",
       "2  1439089200000  395014         400  n552.000 639502 n720.000 424566\n",
       "3  1431226800000   59481         790                       n15360.000\n",
       "4  1431831600000  156781         917                           828513"
      ]
     },
     "execution_count": 46,
     "metadata": {},
     "output_type": "execute_result"
    }
   ],
   "source": [
    "# item_properties — файл с свойствами товаров.\n",
    "\n",
    "# timestamp — момент записи значения свойства\n",
    "# item_id — идентификатор объекта\n",
    "# property — свойство, кажется, они все, кроме категории, захешированы\n",
    "# value — значение свойства\n",
    "dfit1=pd.read_csv('item_properties_part1.csv.zip')\n",
    "dfit1.head()"
   ]
  },
  {
   "cell_type": "code",
   "execution_count": 47,
   "metadata": {},
   "outputs": [
    {
     "data": {
      "text/html": [
       "<div>\n",
       "<style scoped>\n",
       "    .dataframe tbody tr th:only-of-type {\n",
       "        vertical-align: middle;\n",
       "    }\n",
       "\n",
       "    .dataframe tbody tr th {\n",
       "        vertical-align: top;\n",
       "    }\n",
       "\n",
       "    .dataframe thead th {\n",
       "        text-align: right;\n",
       "    }\n",
       "</style>\n",
       "<table border=\"1\" class=\"dataframe\">\n",
       "  <thead>\n",
       "    <tr style=\"text-align: right;\">\n",
       "      <th></th>\n",
       "      <th>timestamp</th>\n",
       "      <th>itemid</th>\n",
       "      <th>property</th>\n",
       "      <th>value</th>\n",
       "    </tr>\n",
       "  </thead>\n",
       "  <tbody>\n",
       "    <tr>\n",
       "      <th>0</th>\n",
       "      <td>1433041200000</td>\n",
       "      <td>183478</td>\n",
       "      <td>561</td>\n",
       "      <td>769062</td>\n",
       "    </tr>\n",
       "    <tr>\n",
       "      <th>1</th>\n",
       "      <td>1439694000000</td>\n",
       "      <td>132256</td>\n",
       "      <td>976</td>\n",
       "      <td>n26.400 1135780</td>\n",
       "    </tr>\n",
       "    <tr>\n",
       "      <th>2</th>\n",
       "      <td>1435460400000</td>\n",
       "      <td>420307</td>\n",
       "      <td>921</td>\n",
       "      <td>1149317 1257525</td>\n",
       "    </tr>\n",
       "    <tr>\n",
       "      <th>3</th>\n",
       "      <td>1431831600000</td>\n",
       "      <td>403324</td>\n",
       "      <td>917</td>\n",
       "      <td>1204143</td>\n",
       "    </tr>\n",
       "    <tr>\n",
       "      <th>4</th>\n",
       "      <td>1435460400000</td>\n",
       "      <td>230701</td>\n",
       "      <td>521</td>\n",
       "      <td>769062</td>\n",
       "    </tr>\n",
       "  </tbody>\n",
       "</table>\n",
       "</div>"
      ],
      "text/plain": [
       "       timestamp  itemid property            value\n",
       "0  1433041200000  183478      561           769062\n",
       "1  1439694000000  132256      976  n26.400 1135780\n",
       "2  1435460400000  420307      921  1149317 1257525\n",
       "3  1431831600000  403324      917          1204143\n",
       "4  1435460400000  230701      521           769062"
      ]
     },
     "execution_count": 47,
     "metadata": {},
     "output_type": "execute_result"
    }
   ],
   "source": [
    "dfit2=pd.read_csv('item_properties_part2.csv.zip')\n",
    "dfit2.head()"
   ]
  },
  {
   "cell_type": "code",
   "execution_count": 48,
   "metadata": {},
   "outputs": [
    {
     "data": {
      "text/plain": [
       "1104"
      ]
     },
     "execution_count": 48,
     "metadata": {},
     "output_type": "execute_result"
    }
   ],
   "source": [
    "# li1=dfit1['property'].unique().tolist()\n",
    "# li2=dfit2['property'].unique().tolist()\n",
    "# количество уникальных свойств товаров суммарно по двум сетам\n",
    "se = set(dfit1['property'].unique()).union(set(dfit2['property'].unique()))\n",
    "len(se)"
   ]
  },
  {
   "cell_type": "code",
   "execution_count": 49,
   "metadata": {},
   "outputs": [
    {
     "data": {
      "text/plain": [
       "2191"
      ]
     },
     "execution_count": 49,
     "metadata": {},
     "output_type": "execute_result"
    }
   ],
   "source": [
    "# (в двух сетах есть повторяющиеся свойства)\n",
    "len(dfit1['property'].unique())+len(dfit2['property'].unique())"
   ]
  },
  {
   "cell_type": "code",
   "execution_count": 50,
   "metadata": {},
   "outputs": [
    {
     "name": "stdout",
     "output_type": "stream",
     "text": [
      "Количество событий до 1 июля: 9654\n",
      "Количество событий после 1 июля: 12803\n",
      "\n",
      "Распределение типов событий до 1 июля:\n",
      "transaction    9654\n",
      "Name: event, dtype: int64\n",
      "\n",
      "Распределение типов событий после 1 июля:\n",
      "transaction    12803\n",
      "Name: event, dtype: int64\n",
      "\n",
      "Топ популярных товаров до 1 июля:\n",
      "119736    36\n",
      "369447    31\n",
      "7943      30\n",
      "461686    23\n",
      "318333    23\n",
      "17478     22\n",
      "312728    19\n",
      "382885    18\n",
      "48030     16\n",
      "379520    16\n",
      "Name: itemid, dtype: int64\n",
      "\n",
      "Топ популярных товаров после 1 июля:\n",
      "461686    110\n",
      "213834     89\n",
      "119736     61\n",
      "445351     43\n",
      "248455     38\n",
      "334401     28\n",
      "312728     27\n",
      "441852     27\n",
      "48030      25\n",
      "320130     25\n",
      "Name: itemid, dtype: int64\n",
      "\n",
      "Количество уникальных пользователей до 1 июля: 5198\n",
      "Количество уникальных пользователей после 1 июля: 6643\n"
     ]
    }
   ],
   "source": [
    "\n",
    "# Исследование количества событий до и после 1 июля\n",
    "events_before_count = len(df_before)\n",
    "events_after_count = len(df_after)\n",
    "\n",
    "# Сравнение распределения типов событий до и после 1 июля\n",
    "events_type_distribution_before = df_before['event'].value_counts()\n",
    "events_type_distribution_after = df_after['event'].value_counts()\n",
    "\n",
    "# Анализ популярности товаров\n",
    "top_popular_items_before = df_before['itemid'].value_counts().head(10)\n",
    "top_popular_items_after = df_after['itemid'].value_counts().head(10)\n",
    "\n",
    "# Анализ уникальных пользователей\n",
    "unique_visitors_before = df_before['visitorid'].nunique()\n",
    "unique_visitors_after = df_after['visitorid'].nunique()\n",
    "# Вывод результатов\n",
    "print(\"Количество событий до 1 июля:\", events_before_count)\n",
    "print(\"Количество событий после 1 июля:\", events_after_count)\n",
    "print(\"\\nРаспределение типов событий до 1 июля:\")\n",
    "print(events_type_distribution_before)\n",
    "print(\"\\nРаспределение типов событий после 1 июля:\")\n",
    "print(events_type_distribution_after)\n",
    "print(\"\\nТоп популярных товаров до 1 июля:\")\n",
    "print(top_popular_items_before)\n",
    "print(\"\\nТоп популярных товаров после 1 июля:\")\n",
    "print(top_popular_items_after)\n",
    "print(\"\\nКоличество уникальных пользователей до 1 июля:\", unique_visitors_before)\n",
    "print(\"Количество уникальных пользователей после 1 июля:\", unique_visitors_after)\n"
   ]
  },
  {
   "cell_type": "code",
   "execution_count": 44,
   "metadata": {},
   "outputs": [
    {
     "data": {
      "image/png": "[encoded data removed]",
      "text/plain": [
       "<Figure size 1200x600 with 1 Axes>"
      ]
     },
     "metadata": {},
     "output_type": "display_data"
    }
   ],
   "source": [
    "\n",
    "# Создаем гистограмму для количества транзакций до и после 1 июля\n",
    "plt.figure(figsize=(12, 6))\n",
    "\n",
    "# Гистограмма для данных до 1 июля\n",
    "plt.hist(df_before['datetime'], bins=10, alpha=0.5, color='b', label='до 1 июля')\n",
    "\n",
    "# Гистограмма для данных после 1 июля\n",
    "plt.hist(df_after['datetime'], bins=10, alpha=0.5, color='r', label='после 1 июля')\n",
    "\n",
    "plt.xlabel('Дата')\n",
    "plt.ylabel('Количество транзакций')\n",
    "plt.title('Количество транзакций до и после 1 июля')\n",
    "plt.legend()\n",
    "\n",
    "# Отображаем гистограмму\n",
    "plt.show()"
   ]
  },
  {
   "cell_type": "code",
   "execution_count": null,
   "metadata": {},
   "outputs": [],
   "source": [
    "# в целом заметно, что интенсивность продаж во втором периоде больше"
   ]
  },
  {
   "cell_type": "code",
   "execution_count": 54,
   "metadata": {},
   "outputs": [
    {
     "name": "stdout",
     "output_type": "stream",
     "text": [
      "Не для каждой комбинации itemid и visitorid существует добавление в корзину перед транзакцией и просмотр перед добавлением в корзину.\n"
     ]
    }
   ],
   "source": [
    "# проверить корректность датасета - выполняется ли просмотр и добавление в корзину перед транзакцией\n",
    "def check_order_of_events(df):\n",
    "    for _, group in df.groupby(['itemid', 'visitorid']):\n",
    "        has_transaction = any(group['event'] == 'transaction')\n",
    "        has_addtocart = any(group['event'] == 'addtocart')\n",
    "        has_view = any(group['event'] == 'view')\n",
    "\n",
    "        if has_transaction and not has_addtocart:\n",
    "            return False\n",
    "        if has_addtocart and not has_view:\n",
    "            return False\n",
    "\n",
    "    return True\n",
    "\n",
    "if check_order_of_events(dfev):\n",
    "    print(\"Для каждой комбинации itemid и visitorid существует добавление в корзину перед транзакцией и просмотр перед добавлением в корзину.\")\n",
    "else:\n",
    "    print(\"Не для каждой комбинации itemid и visitorid существует добавление в корзину перед транзакцией и просмотр перед добавлением в корзину.\")\n",
    "\n"
   ]
  },
  {
   "cell_type": "code",
   "execution_count": 56,
   "metadata": {},
   "outputs": [
    {
     "name": "stdout",
     "output_type": "stream",
     "text": [
      "Датасет с неверными строками:\n",
      "             timestamp  visitorid        event  itemid  transactionid  \\\n",
      "871355   1439663070866     325833    addtocart      19            NaN   \n",
      "874476   1439663329849     325833  transaction      19          219.0   \n",
      "645049   1438647361098     575295  transaction      25         8858.0   \n",
      "645239   1438647305321     575295    addtocart      25            NaN   \n",
      "1482986  1430780975099     234788    addtocart      33            NaN   \n",
      "...                ...        ...          ...     ...            ...   \n",
      "2439215  1437275507057     702551    addtocart  466740            NaN   \n",
      "1005231  1440394435722     986471    addtocart  466843            NaN   \n",
      "2262849  1436646881033     303092    addtocart  466861            NaN   \n",
      "31858    1433265161227     841595    addtocart  466861            NaN   \n",
      "728396   1438971634830     651300    addtocart  466864            NaN   \n",
      "\n",
      "                       datetime  \n",
      "871355  2015-08-15 18:24:30.866  \n",
      "874476  2015-08-15 18:28:49.849  \n",
      "645049  2015-08-04 00:16:01.098  \n",
      "645239  2015-08-04 00:15:05.321  \n",
      "1482986 2015-05-04 23:09:35.099  \n",
      "...                         ...  \n",
      "2439215 2015-07-19 03:11:47.057  \n",
      "1005231 2015-08-24 05:33:55.722  \n",
      "2262849 2015-07-11 20:34:41.033  \n",
      "31858   2015-06-02 17:12:41.227  \n",
      "728396  2015-08-07 18:20:34.830  \n",
      "\n",
      "[22831 rows x 6 columns]\n"
     ]
    },
    {
     "data": {
      "text/html": [
       "<div>\n",
       "<style scoped>\n",
       "    .dataframe tbody tr th:only-of-type {\n",
       "        vertical-align: middle;\n",
       "    }\n",
       "\n",
       "    .dataframe tbody tr th {\n",
       "        vertical-align: top;\n",
       "    }\n",
       "\n",
       "    .dataframe thead th {\n",
       "        text-align: right;\n",
       "    }\n",
       "</style>\n",
       "<table border=\"1\" class=\"dataframe\">\n",
       "  <thead>\n",
       "    <tr style=\"text-align: right;\">\n",
       "      <th></th>\n",
       "      <th>timestamp</th>\n",
       "      <th>visitorid</th>\n",
       "      <th>event</th>\n",
       "      <th>itemid</th>\n",
       "      <th>transactionid</th>\n",
       "      <th>datetime</th>\n",
       "    </tr>\n",
       "  </thead>\n",
       "  <tbody>\n",
       "    <tr>\n",
       "      <th>871355</th>\n",
       "      <td>1439663070866</td>\n",
       "      <td>325833</td>\n",
       "      <td>addtocart</td>\n",
       "      <td>19</td>\n",
       "      <td>NaN</td>\n",
       "      <td>2015-08-15 18:24:30.866</td>\n",
       "    </tr>\n",
       "    <tr>\n",
       "      <th>874476</th>\n",
       "      <td>1439663329849</td>\n",
       "      <td>325833</td>\n",
       "      <td>transaction</td>\n",
       "      <td>19</td>\n",
       "      <td>219.0</td>\n",
       "      <td>2015-08-15 18:28:49.849</td>\n",
       "    </tr>\n",
       "    <tr>\n",
       "      <th>645049</th>\n",
       "      <td>1438647361098</td>\n",
       "      <td>575295</td>\n",
       "      <td>transaction</td>\n",
       "      <td>25</td>\n",
       "      <td>8858.0</td>\n",
       "      <td>2015-08-04 00:16:01.098</td>\n",
       "    </tr>\n",
       "    <tr>\n",
       "      <th>645239</th>\n",
       "      <td>1438647305321</td>\n",
       "      <td>575295</td>\n",
       "      <td>addtocart</td>\n",
       "      <td>25</td>\n",
       "      <td>NaN</td>\n",
       "      <td>2015-08-04 00:15:05.321</td>\n",
       "    </tr>\n",
       "    <tr>\n",
       "      <th>1482986</th>\n",
       "      <td>1430780975099</td>\n",
       "      <td>234788</td>\n",
       "      <td>addtocart</td>\n",
       "      <td>33</td>\n",
       "      <td>NaN</td>\n",
       "      <td>2015-05-04 23:09:35.099</td>\n",
       "    </tr>\n",
       "    <tr>\n",
       "      <th>1496938</th>\n",
       "      <td>1430780975099</td>\n",
       "      <td>234788</td>\n",
       "      <td>addtocart</td>\n",
       "      <td>33</td>\n",
       "      <td>NaN</td>\n",
       "      <td>2015-05-04 23:09:35.099</td>\n",
       "    </tr>\n",
       "    <tr>\n",
       "      <th>1472658</th>\n",
       "      <td>1430679538497</td>\n",
       "      <td>421498</td>\n",
       "      <td>addtocart</td>\n",
       "      <td>33</td>\n",
       "      <td>NaN</td>\n",
       "      <td>2015-05-03 18:58:58.497</td>\n",
       "    </tr>\n",
       "    <tr>\n",
       "      <th>2117186</th>\n",
       "      <td>1435941861118</td>\n",
       "      <td>1294980</td>\n",
       "      <td>addtocart</td>\n",
       "      <td>66</td>\n",
       "      <td>NaN</td>\n",
       "      <td>2015-07-03 16:44:21.118</td>\n",
       "    </tr>\n",
       "    <tr>\n",
       "      <th>338689</th>\n",
       "      <td>1434576680240</td>\n",
       "      <td>1233979</td>\n",
       "      <td>transaction</td>\n",
       "      <td>212</td>\n",
       "      <td>895.0</td>\n",
       "      <td>2015-06-17 21:31:20.240</td>\n",
       "    </tr>\n",
       "    <tr>\n",
       "      <th>343420</th>\n",
       "      <td>1434576582406</td>\n",
       "      <td>1233979</td>\n",
       "      <td>addtocart</td>\n",
       "      <td>212</td>\n",
       "      <td>NaN</td>\n",
       "      <td>2015-06-17 21:29:42.406</td>\n",
       "    </tr>\n",
       "  </tbody>\n",
       "</table>\n",
       "</div>"
      ],
      "text/plain": [
       "             timestamp  visitorid        event  itemid  transactionid  \\\n",
       "871355   1439663070866     325833    addtocart      19            NaN   \n",
       "874476   1439663329849     325833  transaction      19          219.0   \n",
       "645049   1438647361098     575295  transaction      25         8858.0   \n",
       "645239   1438647305321     575295    addtocart      25            NaN   \n",
       "1482986  1430780975099     234788    addtocart      33            NaN   \n",
       "1496938  1430780975099     234788    addtocart      33            NaN   \n",
       "1472658  1430679538497     421498    addtocart      33            NaN   \n",
       "2117186  1435941861118    1294980    addtocart      66            NaN   \n",
       "338689   1434576680240    1233979  transaction     212          895.0   \n",
       "343420   1434576582406    1233979    addtocart     212            NaN   \n",
       "\n",
       "                       datetime  \n",
       "871355  2015-08-15 18:24:30.866  \n",
       "874476  2015-08-15 18:28:49.849  \n",
       "645049  2015-08-04 00:16:01.098  \n",
       "645239  2015-08-04 00:15:05.321  \n",
       "1482986 2015-05-04 23:09:35.099  \n",
       "1496938 2015-05-04 23:09:35.099  \n",
       "1472658 2015-05-03 18:58:58.497  \n",
       "2117186 2015-07-03 16:44:21.118  \n",
       "338689  2015-06-17 21:31:20.240  \n",
       "343420  2015-06-17 21:29:42.406  "
      ]
     },
     "execution_count": 56,
     "metadata": {},
     "output_type": "execute_result"
    }
   ],
   "source": [
    "# если рассуждать, что транзакции должны предшествовать события просмотра и добавления в корзину\n",
    "# для каждого сочетания товара и покупателя, то следует исключить ряды,\n",
    "# для которых не было всей цепочки, т.е. транзакция без добавления в корзину, или добавление в корзину без просмотра\n",
    "# найти такие ряды\n",
    "def check_order_of_events(df):\n",
    "    invalid_rows = []\n",
    "\n",
    "    for _, group in df.groupby(['itemid', 'visitorid']):\n",
    "        has_transaction = any(group['event'] == 'transaction')\n",
    "        has_addtocart = any(group['event'] == 'addtocart')\n",
    "        has_view = any(group['event'] == 'view')\n",
    "\n",
    "        if has_transaction and not has_addtocart:\n",
    "            invalid_rows.extend(group.index)\n",
    "        if has_addtocart and not has_view:\n",
    "            invalid_rows.extend(group.index)\n",
    "\n",
    "    return df.loc[invalid_rows]\n",
    "\n",
    "invalid_rows_df = check_order_of_events(dfev)\n",
    "\n",
    "if not invalid_rows_df.empty:\n",
    "    print(\"Датасет с неверными строками:\")\n",
    "    print(invalid_rows_df)\n",
    "else:\n",
    "    print(\"Нет неверных строк в датасете.\")\n",
    "invalid_rows_df.head(10)    "
   ]
  },
  {
   "cell_type": "code",
   "execution_count": 58,
   "metadata": {},
   "outputs": [],
   "source": [
    "# ????\n",
    "# предположительно из датасета надо исключить 22 тысячи рядов,\n",
    "# которые не соответствуют логике событий view-addtocart-transaction\n",
    "invalid_rows_df.to_csv('invalid_rows_df.csv')"
   ]
  },
  {
   "cell_type": "code",
   "execution_count": 61,
   "metadata": {},
   "outputs": [
    {
     "name": "stdout",
     "output_type": "stream",
     "text": [
      "Ряды, для которых не существует события addtocart для сочетания visitorid и itemid:\n",
      "             timestamp  visitorid        event  itemid  transactionid  \\\n",
      "376542   1434734011664      76757  transaction     320        16619.0   \n",
      "390533   1434733878627      76757         view     320            NaN   \n",
      "1007229  1440393876422     434507  transaction     546          408.0   \n",
      "1011942  1440393693084     434507         view     546            NaN   \n",
      "2506910  1437508500754     385857  transaction     563        12935.0   \n",
      "...                ...        ...          ...     ...            ...   \n",
      "1511731  1430881103410     409939  transaction  465622        17623.0   \n",
      "47071    1433350379996    1339801  transaction  465943         6395.0   \n",
      "58886    1433350130723    1339801         view  465943            NaN   \n",
      "1262617  1441586798593     310032  transaction  466114        10314.0   \n",
      "1174102  1441148046859    1084561  transaction  466135         8748.0   \n",
      "\n",
      "                       datetime  \n",
      "376542  2015-06-19 17:13:31.664  \n",
      "390533  2015-06-19 17:11:18.627  \n",
      "1007229 2015-08-24 05:24:36.422  \n",
      "1011942 2015-08-24 05:21:33.084  \n",
      "2506910 2015-07-21 19:55:00.754  \n",
      "...                         ...  \n",
      "1511731 2015-05-06 02:58:23.410  \n",
      "47071   2015-06-03 16:52:59.996  \n",
      "58886   2015-06-03 16:48:50.723  \n",
      "1262617 2015-09-07 00:46:38.593  \n",
      "1174102 2015-09-01 22:54:06.859  \n",
      "\n",
      "[6988 rows x 6 columns]\n"
     ]
    }
   ],
   "source": [
    "# примем решение, считать некорректными только ряды, для которых не было добавления в корзину и были транзакции.\n",
    "# (если допустить, что можно класть товары в корзину без просмотра)\n",
    "# Находим все ряды, для которых для сочетания visitorid и itemid нет события addtocart\n",
    "filtered_df = invalid_rows_df.groupby(['visitorid', 'itemid']).filter(lambda x: not any(x['event'] == 'addtocart'))\n",
    "\n",
    "print(\"Ряды, для которых не существует события addtocart для сочетания visitorid и itemid:\")\n",
    "print(filtered_df)\n",
    "# тогда потребуется удалить порядка 7тыс некорректных рядов"
   ]
  },
  {
   "cell_type": "code",
   "execution_count": 103,
   "metadata": {},
   "outputs": [
    {
     "name": "stdout",
     "output_type": "stream",
     "text": [
      "(2756101, 6)\n",
      "(2749113, 6)\n"
     ]
    }
   ],
   "source": [
    "# удалить некорректные ряды\n",
    "print(dfev.shape)\n",
    "dfev.drop(filtered_df.index, inplace=True)\n",
    "print(dfev.shape)"
   ]
  },
  {
   "cell_type": "code",
   "execution_count": 65,
   "metadata": {},
   "outputs": [],
   "source": [
    "dfev.to_csv('dfev.csv')"
   ]
  },
  {
   "cell_type": "code",
   "execution_count": 104,
   "metadata": {},
   "outputs": [
    {
     "data": {
      "text/html": [
       "<div>\n",
       "<style scoped>\n",
       "    .dataframe tbody tr th:only-of-type {\n",
       "        vertical-align: middle;\n",
       "    }\n",
       "\n",
       "    .dataframe tbody tr th {\n",
       "        vertical-align: top;\n",
       "    }\n",
       "\n",
       "    .dataframe thead th {\n",
       "        text-align: right;\n",
       "    }\n",
       "</style>\n",
       "<table border=\"1\" class=\"dataframe\">\n",
       "  <thead>\n",
       "    <tr style=\"text-align: right;\">\n",
       "      <th></th>\n",
       "      <th>timestamp</th>\n",
       "      <th>visitorid</th>\n",
       "      <th>event</th>\n",
       "      <th>itemid</th>\n",
       "      <th>transactionid</th>\n",
       "      <th>datetime</th>\n",
       "    </tr>\n",
       "  </thead>\n",
       "  <tbody>\n",
       "    <tr>\n",
       "      <th>19</th>\n",
       "      <td>1433221078505</td>\n",
       "      <td>158090</td>\n",
       "      <td>addtocart</td>\n",
       "      <td>10572</td>\n",
       "      <td>NaN</td>\n",
       "      <td>2015-06-02 04:57:58.505</td>\n",
       "    </tr>\n",
       "    <tr>\n",
       "      <th>27</th>\n",
       "      <td>1433222147345</td>\n",
       "      <td>1076270</td>\n",
       "      <td>view</td>\n",
       "      <td>262799</td>\n",
       "      <td>NaN</td>\n",
       "      <td>2015-06-02 05:15:47.345</td>\n",
       "    </tr>\n",
       "    <tr>\n",
       "      <th>112</th>\n",
       "      <td>1433221941632</td>\n",
       "      <td>599528</td>\n",
       "      <td>addtocart</td>\n",
       "      <td>356475</td>\n",
       "      <td>NaN</td>\n",
       "      <td>2015-06-02 05:12:21.632</td>\n",
       "    </tr>\n",
       "    <tr>\n",
       "      <th>130</th>\n",
       "      <td>1433222276276</td>\n",
       "      <td>599528</td>\n",
       "      <td>transaction</td>\n",
       "      <td>356475</td>\n",
       "      <td>4000.0</td>\n",
       "      <td>2015-06-02 05:17:56.276</td>\n",
       "    </tr>\n",
       "    <tr>\n",
       "      <th>164</th>\n",
       "      <td>1433222646781</td>\n",
       "      <td>529601</td>\n",
       "      <td>view</td>\n",
       "      <td>161166</td>\n",
       "      <td>NaN</td>\n",
       "      <td>2015-06-02 05:24:06.781</td>\n",
       "    </tr>\n",
       "    <tr>\n",
       "      <th>304</th>\n",
       "      <td>1433193500981</td>\n",
       "      <td>121688</td>\n",
       "      <td>transaction</td>\n",
       "      <td>15335</td>\n",
       "      <td>11117.0</td>\n",
       "      <td>2015-06-01 21:18:20.981</td>\n",
       "    </tr>\n",
       "    <tr>\n",
       "      <th>330</th>\n",
       "      <td>1433191584678</td>\n",
       "      <td>850173</td>\n",
       "      <td>view</td>\n",
       "      <td>243470</td>\n",
       "      <td>NaN</td>\n",
       "      <td>2015-06-01 20:46:24.678</td>\n",
       "    </tr>\n",
       "    <tr>\n",
       "      <th>381</th>\n",
       "      <td>1433194701554</td>\n",
       "      <td>539910</td>\n",
       "      <td>view</td>\n",
       "      <td>385201</td>\n",
       "      <td>NaN</td>\n",
       "      <td>2015-06-01 21:38:21.554</td>\n",
       "    </tr>\n",
       "    <tr>\n",
       "      <th>418</th>\n",
       "      <td>1433193915008</td>\n",
       "      <td>552148</td>\n",
       "      <td>transaction</td>\n",
       "      <td>81345</td>\n",
       "      <td>5444.0</td>\n",
       "      <td>2015-06-01 21:25:15.008</td>\n",
       "    </tr>\n",
       "    <tr>\n",
       "      <th>420</th>\n",
       "      <td>1433193032159</td>\n",
       "      <td>639964</td>\n",
       "      <td>view</td>\n",
       "      <td>360258</td>\n",
       "      <td>NaN</td>\n",
       "      <td>2015-06-01 21:10:32.159</td>\n",
       "    </tr>\n",
       "  </tbody>\n",
       "</table>\n",
       "</div>"
      ],
      "text/plain": [
       "         timestamp  visitorid        event  itemid  transactionid  \\\n",
       "19   1433221078505     158090    addtocart   10572            NaN   \n",
       "27   1433222147345    1076270         view  262799            NaN   \n",
       "112  1433221941632     599528    addtocart  356475            NaN   \n",
       "130  1433222276276     599528  transaction  356475         4000.0   \n",
       "164  1433222646781     529601         view  161166            NaN   \n",
       "304  1433193500981     121688  transaction   15335        11117.0   \n",
       "330  1433191584678     850173         view  243470            NaN   \n",
       "381  1433194701554     539910         view  385201            NaN   \n",
       "418  1433193915008     552148  transaction   81345         5444.0   \n",
       "420  1433193032159     639964         view  360258            NaN   \n",
       "\n",
       "                   datetime  \n",
       "19  2015-06-02 04:57:58.505  \n",
       "27  2015-06-02 05:15:47.345  \n",
       "112 2015-06-02 05:12:21.632  \n",
       "130 2015-06-02 05:17:56.276  \n",
       "164 2015-06-02 05:24:06.781  \n",
       "304 2015-06-01 21:18:20.981  \n",
       "330 2015-06-01 20:46:24.678  \n",
       "381 2015-06-01 21:38:21.554  \n",
       "418 2015-06-01 21:25:15.008  \n",
       "420 2015-06-01 21:10:32.159  "
      ]
     },
     "execution_count": 104,
     "metadata": {},
     "output_type": "execute_result"
    }
   ],
   "source": [
    "# определим конверсию для двух периодов\n",
    "df_bef = dfev[dfev['datetime'] <= pd.Timestamp('2015-07-01')]\n",
    "df_aft = dfev[dfev['datetime'] > pd.Timestamp('2015-07-01')]\n",
    "# отфильтровать ряды, которые удовлетворяют условию, что при группировке по пользователю-товару присутствует транзакция\n",
    "trans_bef = df_bef.groupby(['visitorid', 'itemid']).filter(lambda x: any(x['event'] == 'transaction'))\n",
    "trans_bef.head(10)"
   ]
  },
  {
   "cell_type": "code",
   "execution_count": 106,
   "metadata": {},
   "outputs": [],
   "source": [
    "trans_aft = df_aft.groupby(['visitorid', 'itemid']).filter(lambda x: any(x['event'] == 'transaction'))"
   ]
  },
  {
   "cell_type": "code",
   "execution_count": 109,
   "metadata": {},
   "outputs": [
    {
     "name": "stdout",
     "output_type": "stream",
     "text": [
      "Конверсия до 1 июля:0.008934952378995942\n",
      "Конверсия после 1 июля:0.008818147927898385\n"
     ]
    }
   ],
   "source": [
    "# Группировка и фильтрация для подсчета количества групп, удовлетворяющих условию\n",
    "# count_groups = df.groupby(['visitorid', 'itemid']).filter(lambda x: any((x['event'] == 'view') | (x['event'] == 'addtocart'))).groupby(['visitorid', 'itemid']).ngroups\n",
    "\n",
    "# найти общее количество взаимодействий пользователь-товар\n",
    "all_bef = df_bef.groupby(['visitorid', 'itemid']).ngroups\n",
    "all_aft = df_aft.groupby(['visitorid', 'itemid']).ngroups\n",
    "\n",
    "# найти конверсию\n",
    "print(f\"Конверсия до 1 июля:{trans_bef.groupby(['visitorid', 'itemid']).ngroups/all_bef}\")\n",
    "print(f\"Конверсия после 1 июля:{trans_aft.groupby(['visitorid', 'itemid']).ngroups/all_aft}\")"
   ]
  },
  {
   "cell_type": "code",
   "execution_count": null,
   "metadata": {},
   "outputs": [],
   "source": [
    "\n"
   ]
  },
  {
   "cell_type": "code",
   "execution_count": null,
   "metadata": {},
   "outputs": [],
   "source": [
    "\n"
   ]
  }
 ],
 "metadata": {
  "kernelspec": {
   "display_name": "Python 3",
   "language": "python",
   "name": "python3"
  },
  "language_info": {
   "codemirror_mode": {
    "name": "ipython",
    "version": 3
   },
   "file_extension": ".py",
   "mimetype": "text/x-python",
   "name": "python",
   "nbconvert_exporter": "python",
   "pygments_lexer": "ipython3",
   "version": "3.9.17"
  }
 },
 "nbformat": 4,
 "nbformat_minor": 2
}
